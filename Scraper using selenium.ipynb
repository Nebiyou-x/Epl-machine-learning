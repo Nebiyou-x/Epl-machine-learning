{
  "nbformat": 4,
  "nbformat_minor": 0,
  "metadata": {
    "colab": {
      "provenance": [],
      "authorship_tag": "ABX9TyN7V1Hgs8i5dftlseABcRKx",
      "include_colab_link": true
    },
    "kernelspec": {
      "name": "python3",
      "display_name": "Python 3"
    },
    "language_info": {
      "name": "python"
    }
  },
  "cells": [
    {
      "cell_type": "markdown",
      "metadata": {
        "id": "view-in-github",
        "colab_type": "text"
      },
      "source": [
        "<a href=\"https://colab.research.google.com/github/Nebiyou-x/Epl-machine-learning/blob/main/Scraper%20using%20selenium.ipynb\" target=\"_parent\"><img src=\"https://colab.research.google.com/assets/colab-badge.svg\" alt=\"Open In Colab\"/></a>"
      ]
    },
    {
      "cell_type": "code",
      "execution_count": null,
      "metadata": {
        "id": "M91NsOoaFUCR"
      },
      "outputs": [],
      "source": []
    },
    {
      "cell_type": "code",
      "source": [
        "import time\n",
        "from selenium import webdriver\n",
        "from selenium.webdriver.chrome.service import Service\n",
        "from selenium.webdriver.chrome.options import Options\n",
        "from selenium.webdriver.common.by import By\n",
        "from selenium.webdriver.support.ui import WebDriverWait\n",
        "from selenium.webdriver.support import expected_conditions as EC\n",
        "from bs4 import BeautifulSoup\n",
        "import pandas as pd\n",
        "\n",
        "def scrape_ethiopia_league():\n",
        "\n",
        "    chrome_options = Options()\n",
        "    chrome_options.add_argument(\"--headless\")\n",
        "\n",
        "    service = Service('path/to/chromedriver')\n",
        "    driver = webdriver.Chrome(service=service, options=chrome_options)\n",
        "\n",
        "\n",
        "    url = \"https://www.soccerpunter.com/season/22456/Ethiopia-Premier-League-2023-2024\"\n",
        "\n",
        "    try:\n",
        "\n",
        "        driver.get(url)\n",
        "\n",
        "\n",
        "        WebDriverWait(driver, 10).until(\n",
        "            EC.presence_of_element_located((By.CLASS_NAME, \"match-row\"))\n",
        "        )\n",
        "\n",
        "        page_source = driver.page_source\n",
        "\n",
        "\n",
        "        soup = BeautifulSoup(page_source, 'html.parser')\n",
        "\n",
        "\n",
        "        rows = soup.find_all('tr', class_='match-row')\n",
        "\n",
        "        matches_data = []\n",
        "\n",
        "        for row in rows:\n",
        "            try:\n",
        "                date = row.find('td', class_='date').text.strip()\n",
        "                home_team = row.find('td', class_='home').text.strip()\n",
        "                score = row.find('td', class_='score').text.strip()\n",
        "                away_team = row.find('td', class_='away').text.strip()\n",
        "                ht_score = row.find('td', class_='ht').text.strip()\n",
        "\n",
        "                matches_data.append({\n",
        "                    'Date': date,\n",
        "                    'Home Team': home_team,\n",
        "                    'Score': score,\n",
        "                    'Away Team': away_team,\n",
        "                    'HT Score': ht_score\n",
        "                })\n",
        "            except AttributeError:\n",
        "                continue\n",
        "\n",
        "\n",
        "        df = pd.DataFrame(matches_data)\n",
        "\n",
        "\n",
        "        print(\"\\nFirst few matches:\")\n",
        "        print(df.head())\n",
        "\n",
        "\n",
        "        df.to_csv('ethiopia_league_matches.csv', index=False)\n",
        "        print(\"\\nData has been saved to 'ethiopia_league_matches.csv'\")\n",
        "\n",
        "    except Exception as e:\n",
        "        print(f\"An error occurred: {e}\")\n",
        "\n",
        "    finally:\n",
        "\n",
        "        driver.quit()\n",
        "\n",
        "\n",
        "scrape_ethiopia_league()"
      ],
      "metadata": {
        "id": "9dkvtBMhtFPv"
      },
      "execution_count": null,
      "outputs": []
    }
  ]
}