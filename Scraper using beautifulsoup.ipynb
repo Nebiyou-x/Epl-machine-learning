{
  "nbformat": 4,
  "nbformat_minor": 0,
  "metadata": {
    "colab": {
      "provenance": [],
      "authorship_tag": "ABX9TyNI4u2M5zuipsPi7wwyu4V9",
      "include_colab_link": true
    },
    "kernelspec": {
      "name": "python3",
      "display_name": "Python 3"
    },
    "language_info": {
      "name": "python"
    }
  },
  "cells": [
    {
      "cell_type": "markdown",
      "metadata": {
        "id": "view-in-github",
        "colab_type": "text"
      },
      "source": [
        "<a href=\"https://colab.research.google.com/github/Nebiyou-x/Epl-machine-learning/blob/main/Scraper%20using%20beautifulsoup.ipynb\" target=\"_parent\"><img src=\"https://colab.research.google.com/assets/colab-badge.svg\" alt=\"Open In Colab\"/></a>"
      ]
    },
    {
      "cell_type": "markdown",
      "source": [],
      "metadata": {
        "id": "uM2f8VNWbB7q"
      }
    },
    {
      "source": [
        "\n",
        "\n",
        "import requests\n",
        "from bs4 import BeautifulSoup\n",
        "import pandas as pd\n",
        "from datetime import datetime\n",
        "\n",
        "def scrape_ethiopia_league():\n",
        "\n",
        "    url = \"https://www.soccerpunter.com/season/22456/Ethiopia-Premier-League-2023-2024\"\n",
        "\n",
        "\n",
        "    headers = {\n",
        "        'User-Agent': 'Mozilla/5.0 (Windows NT 10.0; Win64; x64) AppleWebKit/537.36 (KHTML, like Gecko) Chrome/91.0.4472.124 Safari/537.36'\n",
        "    }\n",
        "\n",
        "    try:\n",
        "\n",
        "        response = requests.get(url, headers=headers)\n",
        "        response.raise_for_status()\n",
        "\n",
        "\n",
        "        soup = BeautifulSoup(response.text, 'html.parser')\n",
        "\n",
        "\n",
        "        matches_data = []\n",
        "\n",
        "\n",
        "        rows = soup.find_all('tr', class_=lambda x: x and 'match-row' in x)\n",
        "\n",
        "        for row in rows:\n",
        "            try:\n",
        "                date = row.find('td', class_='date').text.strip()\n",
        "                home_team = row.find('td', class_='home').text.strip()\n",
        "                score = row.find('td', class_='score').text.strip()\n",
        "                away_team = row.find('td', class_='away').text.strip()\n",
        "                ht_score = row.find('td', class_='ht').text.strip()\n",
        "\n",
        "                matches_data.append({\n",
        "                    'Date': date,\n",
        "                    'Home Team': home_team,\n",
        "                    'Score': score,\n",
        "                    'Away Team': away_team,\n",
        "                    'HT Score': ht_score\n",
        "                })\n",
        "            except AttributeError:\n",
        "                continue\n",
        "\n",
        "\n",
        "        df = pd.DataFrame(matches_data)\n",
        "\n",
        "\n",
        "        print(\"\\nFirst few matches:\")\n",
        "        print(df.head())\n",
        "\n",
        "\n",
        "        df.to_csv('ethiopia_league_matches.csv', index=False)\n",
        "        print(\"\\nData has been saved to 'ethiopia_league_matches.csv'\")\n",
        "\n",
        "    except requests.RequestException as e:\n",
        "        print(f\"Error fetching data: {e}\")\n",
        "    except Exception as e:\n",
        "        print(f\"An error occurred: {e}\")\n",
        "\n",
        "\n",
        "\n"
      ],
      "cell_type": "code",
      "metadata": {
        "id": "S3iyhR0gYfsV"
      },
      "execution_count": null,
      "outputs": []
    },
    {
      "cell_type": "markdown",
      "source": [
        "##################################################################"
      ],
      "metadata": {
        "id": "YmA6AC00CQcn"
      }
    }
  ]
}